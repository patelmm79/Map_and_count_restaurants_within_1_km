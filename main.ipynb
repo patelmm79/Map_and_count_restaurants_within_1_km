{
 "cells": [
  {
   "cell_type": "markdown",
   "metadata": {
    "collapsed": true
   },
   "source": [
    "A-1: Exploration of data and description of content sets "
   ]
  },
  {
   "cell_type": "code",
   "execution_count": null,
   "metadata": {
    "collapsed": true
   },
   "outputs": [],
   "source": [
    "import pandas as pd\n",
    "import numpy as np\n"
   ]
  },
  {
   "cell_type": "code",
   "execution_count": 25,
   "metadata": {},
   "outputs": [
    {
     "name": "stdout",
     "output_type": "stream",
     "text": [
      "   COOKIE_ID  AD_ID  PLACEMENT_ID\n0    12270.0  325.0        3719.0\n1    15956.0  324.0        3718.0\n2     3793.0  325.0        3714.0\n3     9599.0  324.0        3721.0\n4    16807.0  323.0        3720.0\n5    12500.0  325.0        3719.0\n6     1115.0  325.0        3714.0\n7    16281.0  325.0        3722.0\n8    16802.0  325.0        3714.0\n9    16804.0  325.0        3727.0\nNumber of rows in IMPRESSIONS file is 40500\n"
     ]
    }
   ],
   "source": [
    "impressions_columns = ['COOKIE_ID','AD_ID','PLACEMENT_ID']\n",
    "impressions_array = numpy.loadtxt('C:/Users/insan/PycharmProjects/Essence/data/impressions.txt')\n",
    "impressions = pd.DataFrame(data = impressions_array, columns=impressions_columns)\n",
    "print (impressions.head(n=10))\n",
    "print (\"Number of rows in IMPRESSIONS file is\",len(impressions))"
   ]
  },
  {
   "cell_type": "markdown",
   "metadata": {},
   "source": [
    "IMPRESSIONS.TXT identifies the ad shown to each user, and where that ad was placed, as tracked by cookies."
   ]
  },
  {
   "cell_type": "code",
   "execution_count": 21,
   "metadata": {},
   "outputs": [
    {
     "name": "stdout",
     "output_type": "stream",
     "text": [
      "   COOKIE_ID ACTIVITY_TAG ACTIVITY_TYPE\n0    11592.0     pur_conf             1\n1     6289.0     pur_conf             1\n2    10519.0     pur_conf             1\n3    19695.0     pur_conf             2\n4     4832.0     pur_conf             1\n5    12950.0     pur_conf             1\n6     9745.0     pur_conf             1\n7    12089.0     pur_conf             2\n8    14594.0     pur_conf             2\n9     4043.0     pur_conf             1\nNumber of rows in ACTIVIT file is 3606\n"
     ]
    }
   ],
   "source": [
    "activity_columns = ['COOKIE_ID','ACTIVITY_TAG','ACTIVITY_TYPE']\n",
    "\n",
    "activity_dtype = {'COOKIE_ID':float, 'ACTIVITY_TAG':object,'ACTIVITY_TYPE':object}\n",
    "activity = pd.read_table('C:/Users/insan/PycharmProjects/Essence/data/activity.txt', header=None, names=activity_columns,dtype=activity_dtype)\n",
    "print (activity.head(n=10))\n",
    "print (\"Number of rows in ACTIVITY file is\",len(activity))\n"
   ]
  },
  {
   "cell_type": "markdown",
   "metadata": {},
   "source": [
    "ACTIVITY.TXT contains data that indicates if the user completed a purchase, and whether that purchase was completed with or without an ad.  The dataset contains 3,606 rows.  "
   ]
  },
  {
   "cell_type": "code",
   "execution_count": 24,
   "metadata": {},
   "outputs": [
    {
     "data": {
      "text/html": [
       "<div>\n",
       "<style>\n",
       "    .dataframe thead tr:only-child th {\n",
       "        text-align: right;\n",
       "    }\n",
       "\n",
       "    .dataframe thead th {\n",
       "        text-align: left;\n",
       "    }\n",
       "\n",
       "    .dataframe tbody tr th {\n",
       "        vertical-align: top;\n",
       "    }\n",
       "</style>\n",
       "<table border=\"1\" class=\"dataframe\">\n",
       "  <thead>\n",
       "    <tr style=\"text-align: right;\">\n",
       "      <th></th>\n",
       "      <th>AD_ID</th>\n",
       "      <th>AD_SIZE</th>\n",
       "      <th>AD_FORMAT</th>\n",
       "    </tr>\n",
       "  </thead>\n",
       "  <tbody>\n",
       "    <tr>\n",
       "      <th>0</th>\n",
       "      <td>323.0</td>\n",
       "      <td>300x250</td>\n",
       "      <td>Standard</td>\n",
       "    </tr>\n",
       "    <tr>\n",
       "      <th>1</th>\n",
       "      <td>324.0</td>\n",
       "      <td>728x90</td>\n",
       "      <td>Standard</td>\n",
       "    </tr>\n",
       "    <tr>\n",
       "      <th>2</th>\n",
       "      <td>325.0</td>\n",
       "      <td>300x600</td>\n",
       "      <td>Standard</td>\n",
       "    </tr>\n",
       "    <tr>\n",
       "      <th>3</th>\n",
       "      <td>326.0</td>\n",
       "      <td>970x250</td>\n",
       "      <td>Rich-Media</td>\n",
       "    </tr>\n",
       "    <tr>\n",
       "      <th>4</th>\n",
       "      <td>327.0</td>\n",
       "      <td>500x600</td>\n",
       "      <td>Rich-Media</td>\n",
       "    </tr>\n",
       "    <tr>\n",
       "      <th>5</th>\n",
       "      <td>328.0</td>\n",
       "      <td>:15s</td>\n",
       "      <td>Video</td>\n",
       "    </tr>\n",
       "  </tbody>\n",
       "</table>\n",
       "</div>"
      ],
      "text/plain": [
       "<div>\n",
       "<style>\n",
       "    .dataframe thead tr:only-child th {\n",
       "        text-align: right;\n",
       "    }\n",
       "\n",
       "    .dataframe thead th {\n",
       "        text-align: left;\n",
       "    }\n",
       "\n",
       "    .dataframe tbody tr th {\n",
       "        vertical-align: top;\n",
       "    }\n",
       "</style>\n",
       "<table border=\"1\" class=\"dataframe\">\n",
       "  <thead>\n",
       "    <tr style=\"text-align: right;\">\n",
       "      <th></th>\n",
       "      <th>AD_ID</th>\n",
       "      <th>AD_SIZE</th>\n",
       "      <th>AD_FORMAT</th>\n",
       "    </tr>\n",
       "  </thead>\n",
       "  <tbody>\n",
       "    <tr>\n",
       "      <th>0</th>\n",
       "      <td>323.0</td>\n",
       "      <td>300x250</td>\n",
       "      <td>Standard</td>\n",
       "    </tr>\n",
       "    <tr>\n",
       "      <th>1</th>\n",
       "      <td>324.0</td>\n",
       "      <td>728x90</td>\n",
       "      <td>Standard</td>\n",
       "    </tr>\n",
       "    <tr>\n",
       "      <th>2</th>\n",
       "      <td>325.0</td>\n",
       "      <td>300x600</td>\n",
       "      <td>Standard</td>\n",
       "    </tr>\n",
       "    <tr>\n",
       "      <th>3</th>\n",
       "      <td>326.0</td>\n",
       "      <td>970x250</td>\n",
       "      <td>Rich-Media</td>\n",
       "    </tr>\n",
       "    <tr>\n",
       "      <th>4</th>\n",
       "      <td>327.0</td>\n",
       "      <td>500x600</td>\n",
       "      <td>Rich-Media</td>\n",
       "    </tr>\n",
       "    <tr>\n",
       "      <th>5</th>\n",
       "      <td>328.0</td>\n",
       "      <td>:15s</td>\n",
       "      <td>Video</td>\n",
       "    </tr>\n",
       "  </tbody>\n",
       "</table>\n",
       "</div>"
      ]
     },
     "execution_count": 24,
     "metadata": {},
     "output_type": "execute_result"
    }
   ],
   "source": [
    "ad_lookup_columns = ['AD_ID','AD_SIZE','AD_FORMAT']\n",
    "ad_lookup_dtype = {'AD_ID':float, 'AD_SIZE':object,'AD_FORMAT':object}\n",
    "ad_lookup = pd.read_table('C:/Users/insan/PycharmProjects/Essence/data/ad_lookup.txt', header=None, names=ad_lookup_columns,dtype=ad_lookup_dtype)\n",
    "#activity = pd.DataFrame(data = activity_array, columns=activity_columns])\n",
    "ad_lookup.head(n=10)\n"
   ]
  },
  {
   "cell_type": "markdown",
   "metadata": {},
   "source": [
    "AD_LOOKUP contains the domain values which specify the various ad characteristics, such as size and format of ad.  IT contains 5 rows, and links to the IMPRESSSIONS  data through AD_ID\n"
   ]
  },
  {
   "cell_type": "code",
   "execution_count": 115,
   "metadata": {},
   "outputs": [
    {
     "name": "stdout",
     "output_type": "stream",
     "text": [
      "   PLACEMENT_ID  CATEGORY_ID   CPI\n0        3712.0      10001.0  12.0\n1        3713.0      10001.0  12.0\n2        3714.0      10001.0  12.0\n3        3715.0      10001.0  20.0\n4        3716.0      10001.0  20.0\n5        3717.0      10002.0   8.0\n6        3718.0      10002.0   8.0\n7        3719.0      10002.0   8.0\n8        3720.0      10003.0  20.0\n9        3721.0      10003.0  20.0\nLength of PLACEMENT data is  16\n"
     ]
    }
   ],
   "source": [
    "placement_lookup_columns = ['PLACEMENT_ID','CATEGORY_ID','CPI']\n",
    "##activity_array = numpy.loadtxt('C:/Users/insan/PycharmProjects/Essence/data/activity.txt')\n",
    "placement_lookup_dtype = {'PLACEMENT_ID':float, 'CATEGORY_ID':float,'CPI':float}\n",
    "placement_lookup = pd.read_table('C:/Users/insan/PycharmProjects/Essence/data/placement_lookup.txt', header=None, names=placement_lookup_columns,dtype=placement_lookup_dtype)\n",
    "#activity = pd.DataFrame(data = activity_array, columns=activity_columns])\n",
    "print (placement_lookup.head(n=10))\n",
    "print (\"Length of PLACEMENT data is \",len(placement_lookup))\n"
   ]
  },
  {
   "cell_type": "markdown",
   "metadata": {},
   "source": [
    "PLACEMENT_LOOKUP contains details of the ad placement such as category and cost.  It contains 16 rows is tied to IMPRESSIONs via placement_id.\n"
   ]
  },
  {
   "cell_type": "code",
   "execution_count": 33,
   "metadata": {},
   "outputs": [
    {
     "data": {
      "text/html": [
       "<div>\n",
       "<style>\n",
       "    .dataframe thead tr:only-child th {\n",
       "        text-align: right;\n",
       "    }\n",
       "\n",
       "    .dataframe thead th {\n",
       "        text-align: left;\n",
       "    }\n",
       "\n",
       "    .dataframe tbody tr th {\n",
       "        vertical-align: top;\n",
       "    }\n",
       "</style>\n",
       "<table border=\"1\" class=\"dataframe\">\n",
       "  <thead>\n",
       "    <tr style=\"text-align: right;\">\n",
       "      <th></th>\n",
       "      <th>CATEGORY_ID</th>\n",
       "      <th>CATEGORY</th>\n",
       "      <th>AVG_PURCHASE_PRICE</th>\n",
       "    </tr>\n",
       "  </thead>\n",
       "  <tbody>\n",
       "    <tr>\n",
       "      <th>0</th>\n",
       "      <td>10001.0</td>\n",
       "      <td>Travel</td>\n",
       "      <td>200.0</td>\n",
       "    </tr>\n",
       "    <tr>\n",
       "      <th>1</th>\n",
       "      <td>10002.0</td>\n",
       "      <td>Weather</td>\n",
       "      <td>150.0</td>\n",
       "    </tr>\n",
       "    <tr>\n",
       "      <th>2</th>\n",
       "      <td>10003.0</td>\n",
       "      <td>News</td>\n",
       "      <td>250.0</td>\n",
       "    </tr>\n",
       "    <tr>\n",
       "      <th>3</th>\n",
       "      <td>10004.0</td>\n",
       "      <td>Gaming</td>\n",
       "      <td>50.0</td>\n",
       "    </tr>\n",
       "  </tbody>\n",
       "</table>\n",
       "</div>"
      ],
      "text/plain": [
       "<div>\n",
       "<style>\n",
       "    .dataframe thead tr:only-child th {\n",
       "        text-align: right;\n",
       "    }\n",
       "\n",
       "    .dataframe thead th {\n",
       "        text-align: left;\n",
       "    }\n",
       "\n",
       "    .dataframe tbody tr th {\n",
       "        vertical-align: top;\n",
       "    }\n",
       "</style>\n",
       "<table border=\"1\" class=\"dataframe\">\n",
       "  <thead>\n",
       "    <tr style=\"text-align: right;\">\n",
       "      <th></th>\n",
       "      <th>CATEGORY_ID</th>\n",
       "      <th>CATEGORY</th>\n",
       "      <th>AVG_PURCHASE_PRICE</th>\n",
       "    </tr>\n",
       "  </thead>\n",
       "  <tbody>\n",
       "    <tr>\n",
       "      <th>0</th>\n",
       "      <td>10001.0</td>\n",
       "      <td>Travel</td>\n",
       "      <td>200.0</td>\n",
       "    </tr>\n",
       "    <tr>\n",
       "      <th>1</th>\n",
       "      <td>10002.0</td>\n",
       "      <td>Weather</td>\n",
       "      <td>150.0</td>\n",
       "    </tr>\n",
       "    <tr>\n",
       "      <th>2</th>\n",
       "      <td>10003.0</td>\n",
       "      <td>News</td>\n",
       "      <td>250.0</td>\n",
       "    </tr>\n",
       "    <tr>\n",
       "      <th>3</th>\n",
       "      <td>10004.0</td>\n",
       "      <td>Gaming</td>\n",
       "      <td>50.0</td>\n",
       "    </tr>\n",
       "  </tbody>\n",
       "</table>\n",
       "</div>"
      ]
     },
     "execution_count": 33,
     "metadata": {},
     "output_type": "execute_result"
    }
   ],
   "source": [
    "category_lookup_columns = ['CATEGORY_ID','CATEGORY','AVG_PURCHASE_PRICE']\n",
    "category_lookup_dtype = {'CATEGORY_ID':float, 'CATEGORY':object,'AVG_PURCHASE_PRICE':float}\n",
    "category_lookup = pd.read_table('C:/Users/insan/PycharmProjects/Essence/data/category_lookup.txt', header=None, names=category_lookup_columns,dtype=category_lookup_dtype)\n",
    "category_lookup.head(n=10)"
   ]
  },
  {
   "cell_type": "markdown",
   "metadata": {},
   "source": [
    "CATEGORY_LOOKUP defines the  lookup values for website category data.  It contains 4 rows, and links to PLACEMENT_LOOKUP via placement_id.\n"
   ]
  },
  {
   "cell_type": "code",
   "execution_count": null,
   "metadata": {},
   "outputs": [],
   "source": [
    "combined_placement = pd.merge(placement_lookup, category_lookup,on='CATEGORY_ID')\n",
    "combined_impressions = pd.merge(impressions,activity, how='outer', on = 'COOKIE_ID')\n",
    "combined_impressions=pd.merge(combined_impressions,ad_lookup,on=\"AD_ID\")\n",
    "combined_impressions = pd.merge(combined_impressions,combined_placement, on = 'PLACEMENT_ID')\n",
    "\n",
    "\n",
    "print(combined_impressions.head(n=10))\n",
    "print (len(combined_impressions))\n",
    "#combined_impressions.to_csv(\"C:/Users/insan/PycharmProjects/Essence/data/combined_impressions.csv\")\n"
   ]
  },
  {
   "cell_type": "markdown",
   "metadata": {},
   "source": [
    "A-3: With the given data,  a number of potential measures of metrics could be used to assess activity at the cookie level; most basically, effectiveness ( as measured by conversion rate ) and efficiency (cost per purchase action) can be assessed by ad, placement, ad size, ad format, and website category with the given data.  Further analysis by revenue generated per action (accounting for ad cost) would also help to understand whether the ad purchase is financially sensible relative to other options."
   ]
  },
  {
   "cell_type": "code",
   "execution_count": 120,
   "metadata": {},
   "outputs": [],
   "source": [
    "#combined_impressions.query('ACTIVITY_TYPE'=='2').groupby('AD_ID').size().head(n=10)\n",
    "ads_converted = combined_impressions[combined_impressions['ACTIVITY_TYPE']=='2'].groupby('AD_ID').size().to_frame('size_converted')\n",
    "ads_cost = combined_impressions[combined_impressions['ACTIVITY_TYPE']=='2'].groupby('AD_ID')['CPI'].agg('sum').to_frame('CPI_TOTAL')\n",
    "ads_cost['AD_ID']=ads_cost.index\n",
    "ads_converted['AD_ID']=ads_converted.index\n",
    "ads_total = combined_impressions.groupby('AD_ID')['AD_ID'].size().to_frame('total_impressions')\n",
    "ads_total['AD_ID']=ads_total.index\n",
    "ads_summary=pd.merge(ads_total,ads_converted,on='AD_ID')\n",
    "ads_summary=pd.merge(ads_summary,ads_cost,on='AD_ID')\n",
    "ads_summary['conversion_rate']=ads_summary['size_converted']/ads_summary['total_impressions']\n",
    "ads_summary['efficiency']=ads_summary['CPI_TOTAL']/ads_summary['size_converted']\n",
    "\n",
    "\n",
    "print (ads_summary)"
   ]
  },
  {
   "cell_type": "markdown",
   "metadata": {},
   "source": [
    "Based on determining cconversion rate as  ratio of impressions with click-through activity to total number of impressions per ad, ad 326 demonstrates highest conversion rate amongst all ads, with conversion rate of 16%.   This effectiveness might be driven by the fact that this ad was only displayed on travel sites, and that the ad was tailored for consumers interested in travel content.\n",
    "\n",
    "To determine efficiency, we assess dollar spent per purchase action (as generated by click-through on the ad).  With $8.85 spent per purchase, ad 324 is the most efficient; 73% of impressions were made on low-CPI category sites like travel and news."
   ]
  },
  {
   "cell_type": "code",
   "execution_count": 109,
   "metadata": {},
   "outputs": [
    {
     "data": {
      "text/html": [
       "<div>\n",
       "<style>\n",
       "    .dataframe thead tr:only-child th {\n",
       "        text-align: right;\n",
       "    }\n",
       "\n",
       "    .dataframe thead th {\n",
       "        text-align: left;\n",
       "    }\n",
       "\n",
       "    .dataframe tbody tr th {\n",
       "        vertical-align: top;\n",
       "    }\n",
       "</style>\n",
       "<table border=\"1\" class=\"dataframe\">\n",
       "  <thead>\n",
       "    <tr style=\"text-align: right;\">\n",
       "      <th></th>\n",
       "      <th>size_converted</th>\n",
       "      <th>AD_ID</th>\n",
       "    </tr>\n",
       "    <tr>\n",
       "      <th>AD_ID</th>\n",
       "      <th></th>\n",
       "      <th></th>\n",
       "    </tr>\n",
       "  </thead>\n",
       "  <tbody>\n",
       "    <tr>\n",
       "      <th>323.0</th>\n",
       "      <td>11700</td>\n",
       "      <td>323.0</td>\n",
       "    </tr>\n",
       "    <tr>\n",
       "      <th>324.0</th>\n",
       "      <td>11700</td>\n",
       "      <td>324.0</td>\n",
       "    </tr>\n",
       "    <tr>\n",
       "      <th>325.0</th>\n",
       "      <td>11700</td>\n",
       "      <td>325.0</td>\n",
       "    </tr>\n",
       "    <tr>\n",
       "      <th>326.0</th>\n",
       "      <td>1800</td>\n",
       "      <td>326.0</td>\n",
       "    </tr>\n",
       "    <tr>\n",
       "      <th>327.0</th>\n",
       "      <td>3000</td>\n",
       "      <td>327.0</td>\n",
       "    </tr>\n",
       "    <tr>\n",
       "      <th>328.0</th>\n",
       "      <td>600</td>\n",
       "      <td>328.0</td>\n",
       "    </tr>\n",
       "  </tbody>\n",
       "</table>\n",
       "</div>"
      ],
      "text/plain": [
       "<div>\n",
       "<style>\n",
       "    .dataframe thead tr:only-child th {\n",
       "        text-align: right;\n",
       "    }\n",
       "\n",
       "    .dataframe thead th {\n",
       "        text-align: left;\n",
       "    }\n",
       "\n",
       "    .dataframe tbody tr th {\n",
       "        vertical-align: top;\n",
       "    }\n",
       "</style>\n",
       "<table border=\"1\" class=\"dataframe\">\n",
       "  <thead>\n",
       "    <tr style=\"text-align: right;\">\n",
       "      <th></th>\n",
       "      <th>size_converted</th>\n",
       "      <th>AD_ID</th>\n",
       "    </tr>\n",
       "    <tr>\n",
       "      <th>AD_ID</th>\n",
       "      <th></th>\n",
       "      <th></th>\n",
       "    </tr>\n",
       "  </thead>\n",
       "  <tbody>\n",
       "    <tr>\n",
       "      <th>323.0</th>\n",
       "      <td>11700</td>\n",
       "      <td>323.0</td>\n",
       "    </tr>\n",
       "    <tr>\n",
       "      <th>324.0</th>\n",
       "      <td>11700</td>\n",
       "      <td>324.0</td>\n",
       "    </tr>\n",
       "    <tr>\n",
       "      <th>325.0</th>\n",
       "      <td>11700</td>\n",
       "      <td>325.0</td>\n",
       "    </tr>\n",
       "    <tr>\n",
       "      <th>326.0</th>\n",
       "      <td>1800</td>\n",
       "      <td>326.0</td>\n",
       "    </tr>\n",
       "    <tr>\n",
       "      <th>327.0</th>\n",
       "      <td>3000</td>\n",
       "      <td>327.0</td>\n",
       "    </tr>\n",
       "    <tr>\n",
       "      <th>328.0</th>\n",
       "      <td>600</td>\n",
       "      <td>328.0</td>\n",
       "    </tr>\n",
       "  </tbody>\n",
       "</table>\n",
       "</div>"
      ]
     },
     "execution_count": 109,
     "metadata": {},
     "output_type": "execute_result"
    }
   ],
   "source": [
    ""
   ]
  },
  {
   "cell_type": "code",
   "execution_count": 122,
   "metadata": {},
   "outputs": [
    {
     "name": "stdout",
     "output_type": "stream",
     "text": [
      "    total_impressions  PLACEMENT_ID  size_converted  CPI_TOTAL  \\\n0                2400        3712.0             192     2304.0   \n1                2400        3713.0              96     1152.0   \n2                2400        3714.0             384     4608.0   \n3                1800        3715.0             288     5760.0   \n4                1800        3716.0             288     5760.0   \n5                4500        3717.0             450     3600.0   \n6                4500        3718.0             270     2160.0   \n7                4500        3719.0             630     5040.0   \n8                1800        3720.0             108     2160.0   \n9                1800        3721.0              72     1440.0   \n10               1800        3722.0             144     2880.0   \n11               1200        3723.0              72     2016.0   \n12                600        3724.0              36     1728.0   \n13               3000        3725.0             180      720.0   \n14               3000        3726.0             180      720.0   \n15               3000        3727.0             180      720.0   \n\n    conversion_rate  efficiency  \n0              0.08        12.0  \n1              0.04        12.0  \n2              0.16        12.0  \n3              0.16        20.0  \n4              0.16        20.0  \n5              0.10         8.0  \n6              0.06         8.0  \n7              0.14         8.0  \n8              0.06        20.0  \n9              0.04        20.0  \n10             0.08        20.0  \n11             0.06        28.0  \n12             0.06        48.0  \n13             0.06         4.0  \n14             0.06         4.0  \n15             0.06         4.0  \n"
     ]
    }
   ],
   "source": [
    "#combined_impressions.query('ACTIVITY_TYPE'=='2').groupby('AD_ID').size().head(n=10)\n",
    "placement_converted = combined_impressions[combined_impressions['ACTIVITY_TYPE']=='2'].groupby('PLACEMENT_ID').size().to_frame('size_converted')\n",
    "placement_cost = combined_impressions[combined_impressions['ACTIVITY_TYPE']=='2'].groupby('PLACEMENT_ID')['CPI'].agg('sum').to_frame('CPI_TOTAL')\n",
    "placement_cost['PLACEMENT_ID']=placement_cost.index\n",
    "placement_converted['PLACEMENT_ID']=placement_converted.index\n",
    "placement_total = combined_impressions.groupby('PLACEMENT_ID')['PLACEMENT_ID'].size().to_frame('total_impressions')\n",
    "placement_total['PLACEMENT_ID']=placement_total.index\n",
    "placement_summary=pd.merge(placement_total,placement_converted,on='PLACEMENT_ID')\n",
    "placement_summary=pd.merge(placement_summary,placement_cost,on='PLACEMENT_ID')\n",
    "placement_summary['conversion_rate']=placement_summary['size_converted']/placement_summary['total_impressions']\n",
    "placement_summary['efficiency']=placement_summary['CPI_TOTAL']/placement_summary['size_converted']\n",
    "\n",
    "\n",
    "print (placement_summary)"
   ]
  },
  {
   "cell_type": "markdown",
   "metadata": {},
   "source": [
    "Placements 3714,3715, and 3716 show highest effectiveness at 16%; high effeciveness may be driven by the fact that these placements were on travel sites, which are highly relevant to the content being sold (noting though that placements 3712 and 3713 were also on travel sites, but were not as effective).  3725, 3726, and 3727 show highest efficiency at $4 per ad-driven purchase; these placements were in gaming sites, which offer particularly low CPI."
   ]
  },
  {
   "cell_type": "markdown",
   "metadata": {},
   "source": [
    "B-3: Confounds: this analysis is driven by the assessment of the success of click-through conversion ads and sets aside those purchases made through view-through  \n",
    "conversions, on the presumption that only purchases made through direct ad clicks are successful conversions.  This presumption discounts the potential value o\n",
    "of ad views, which may not generate an immediate purchase, but may impact purchasing decisions at a future time.  "
   ]
  },
  {
   "cell_type": "markdown",
   "metadata": {},
   "source": [
    "\n"
   ]
  },
  {
   "cell_type": "markdown",
   "metadata": {},
   "source": [
    "B-4: To improve the analysis, I would try to more fairly assess the impact of view-through conversions, which is likely a more significant driver of purchase activity than considered here.  In terms of additional data, information on the drivers of the CPI (such as placement website traffic data) would be useful to assess the \"fairness\" of the ad price.  I would also like additional details on the quality of the ad placement--where on webpage the ad is being placed, if scrolling is required to access the ad, if the ad is accessible on the main page vs sub-pages on the site etc.)"
   ]
  },
  {
   "cell_type": "markdown",
   "metadata": {},
   "source": [
    "B-5: Based on this limited analysis, "
   ]
  },
  {
   "cell_type": "markdown",
   "metadata": {},
   "source": [
    "\n"
   ]
  },
  {
   "cell_type": "markdown",
   "metadata": {},
   "source": [
    "\n"
   ]
  }
 ],
 "metadata": {
  "kernelspec": {
   "display_name": "Python 2",
   "language": "python",
   "name": "python2"
  },
  "language_info": {
   "codemirror_mode": {
    "name": "ipython",
    "version": 2
   },
   "file_extension": ".py",
   "mimetype": "text/x-python",
   "name": "python",
   "nbconvert_exporter": "python",
   "pygments_lexer": "ipython2",
   "version": "2.7.6"
  }
 },
 "nbformat": 4,
 "nbformat_minor": 0
}

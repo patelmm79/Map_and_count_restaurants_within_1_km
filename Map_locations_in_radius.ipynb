{
 "cells": [
  {
   "cell_type": "heading",
   "metadata": {},
   "level": 1,
   "source": [
    "Counting Restaurants in 1 KM Radius"
   ]
  },
  {
   "cell_type": "code",
   "execution_count": null,
   "metadata": {},
   "outputs": [],
   "source": [
    "This notebook is an illustration of Python modules built for GIS analysis."
   ]
  },
  {
   "cell_type": "heading",
   "metadata": {},
   "level": 2,
   "source": []
  },
  {
   "cell_type": "heading",
   "metadata": {},
   "level": 2,
   "source": []
  },
  {
   "cell_type": "code",
   "execution_count": null,
   "metadata": {
    "collapsed": false
   },
   "outputs": [],
   "source": [
    "import numpy as np\n",
    "import geog  ## package for geodesic functions\n",
    "import shapely.geometry\n",
    "import json\n",
    "import geopandas as gpd\n",
    "import overpass # Python package to interface with OSM Overpass API\n",
    "import folium\n"
   ]
  },
  {
   "cell_type": "heading",
   "metadata": {},
   "level": 2,
   "source": []
  },
  {
   "cell_type": "code",
   "execution_count": null,
   "metadata": {
    "collapsed": false
   },
   "outputs": [],
   "source": [
    "\n",
    "####inputs\n",
    "radius = 3 # radius in KM\n",
    "starting_lat = 40.679044\n",
    "starting_lon = -73.971655\n"
   ]
  },
  {
   "cell_type": "code",
   "execution_count": null,
   "metadata": {},
   "outputs": [],
   "source": [
    "Create polygon based on input parameters above, and create GeoDataFrame for polygon"
   ]
  },
  {
   "cell_type": "code",
   "execution_count": null,
   "metadata": {
    "collapsed": false
   },
   "outputs": [],
   "source": [
    "\n",
    "crs = {'init': 'epsg:4326'}\n",
    "#### create geometry based on a single point\n",
    "p = shapely.geometry.Point([ starting_lon, starting_lat ])\n",
    "\n",
    "\n",
    "#### generate polygon based on radius around point\n",
    "n_points = 20\n",
    "d = radius * 1000  # meters\n",
    "angles = np.linspace(0, 360, n_points)\n",
    "polygon = geog.propagate(p, angles, d)\n",
    "#geoj = json.loads(json.dumps(shapely.geometry.mapping(shapely.geometry.Polygon(polygon))))  ### code to convert polygon to geoJSON \n",
    "\n",
    "# Create GeoDataFrame based on polygon around point\n",
    "geoj= gpd.GeoDataFrame(crs=crs)\n",
    "geoj['geometry'] = None\n",
    "geoj.loc[0, 'geometry'] = shapely.geometry.Polygon(polygon)\n"
   ]
  },
  {
   "cell_type": "code",
   "execution_count": null,
   "metadata": {
    "collapsed": false
   },
   "outputs": [],
   "source": [
    "\n",
    "\n",
    "outline_box_osm = ''\n",
    "\n",
    "for i in [1,0,3,2]:\n",
    "    outline_box_osm  = outline_box_osm + str(geoj['geometry'][0].bounds[i])+','\n",
    "\n",
    "outline_box_osm=outline_box_osm[0:-1]\n",
    "print (outline_box_osm)\n",
    "\n",
    "\n",
    "with open('data.json', 'w') as outfile:\n",
    "    json.dump(shapely.geometry.mapping(shapely.geometry.Polygon(polygon)),outfile)\n",
    "\n",
    "\n",
    "api = overpass.API()\n",
    "response = api.Get('node[\\\"amenity\\\"=\\\"restaurant\\\"][\\\"cuisine\\\"=\\\"pizza\\\"]('+outline_box_osm+')')\n",
    "\n",
    "##print (response)\n",
    "\n",
    "\n",
    "poly = gpd.read_file('data.json')\n",
    "gs = gpd.GeoDataFrame.from_features(response['features'],crs=crs)\n",
    "\n",
    "print (len(gs))\n",
    "\n",
    "#print(\"Head of points data \",gs.head())\n",
    "\n",
    "pointInPolys = gpd.sjoin(gs,geoj ,op='within')\n",
    "\n",
    "\n",
    "print (len(pointInPolys))\n",
    "\n",
    "\n",
    "\n",
    "\n",
    "\n",
    "\n",
    "import matplotlib.pyplot as plt\n",
    "import mplleaflet\n",
    "\n",
    "geoj.plot()\n",
    "pointInPolys.plot()\n",
    "\n",
    "\n",
    "zoom_level = (radius * -1) + 16\n",
    "\n",
    "\n",
    "\n",
    "\n",
    "mapa  =  folium.Map([starting_lat, starting_lon ],  zoom_start=zoom_level,tiles='cartodbpositron')\n",
    "\n",
    "\n",
    "#folium.GeoJson(geoj).add_to(m)\n",
    "#folium.GeoJson(gs).add_to(m)\n",
    "\n",
    "style_function = lambda x: {'fillColor': '#0000ff'}\n",
    "\n",
    "\n",
    "##gj = folium.GeoJson(pointInPolys).add_to(m)\n",
    "\n",
    "#gj.add_child(folium.Icon(color='green'))\n",
    "#gj.add_child(folium.Popup('outline Popup on GeoJSON'))\n",
    "#gj.add_to(m)\n",
    "#m.save( 'geopandas_1.html')\n",
    "\n",
    "#print (pointInPolys.head())\n",
    "\n",
    "from folium import IFrame, Map\n",
    "from folium.plugins import MarkerCluster\n",
    "\n",
    "\n",
    "table = \"\"\"\n",
    "<!DOCTYPE html>\n",
    "<html>\n",
    "<head>\n",
    "<style>\n",
    "table {{\n",
    "    width:100%;\n",
    "}}\n",
    "table, th, td {{\n",
    "    border: 1px solid black;\n",
    "    border-collapse: collapse;\n",
    "}}\n",
    "th, td {{\n",
    "    padding: 5px;\n",
    "    text-align: left;\n",
    "}}\n",
    "table#t01 tr:nth-child(odd) {{\n",
    "    background-color: #eee;\n",
    "}}\n",
    "table#t01 tr:nth-child(even) {{\n",
    "   background-color:#fff;\n",
    "}}\n",
    "</style>\n",
    "</head>\n",
    "<body>\n",
    "\n",
    "<table id=\"t01\">\n",
    "  <tr>\n",
    "    <td>Cuisine Type</td>\n",
    "    <td>{}</td>\n",
    "  </tr>\n",
    "  <tr>\n",
    "    <td>Restaurant Name</td>\n",
    "    <td>{}</td>\n",
    "  </tr>\n",
    "</table>\n",
    "</body>\n",
    "</html>\n",
    "\"\"\".format\n",
    "\n",
    "import matplotlib\n",
    "matplotlib.pyplot.close('all')\n",
    "width, height = 310,110\n",
    "popups, locations = [], []\n",
    "for idx, row in pointInPolys.iterrows():\n",
    "    locations.append([row['geometry'].y, row['geometry'].x])\n",
    "    name = row['name'].encode('ascii', 'xmlcharrefreplace')\n",
    "\n",
    "    iframe = IFrame(table('Pizza', name), width=width, height=height)\n",
    "    popups.append(iframe)\n",
    "\n",
    "t = folium.FeatureGroup(name='Thermoelectric')\n",
    "t.add_child(MarkerCluster(locations=locations, popups=popups))\n",
    "mapa.add_child(t)\n",
    "\n",
    "\n",
    "folium.GeoJson(geoj).add_to(mapa)\n",
    "mapa.save('geo2.html')\n",
    "\n",
    "mapa\n"
   ]
  },
  {
   "cell_type": "code",
   "execution_count": null,
   "metadata": {},
   "outputs": [],
   "source": []
  }
 ],
 "metadata": {
  "kernelspec": {
   "display_name": "Python 2",
   "language": "python",
   "name": "python2"
  },
  "language_info": {
   "codemirror_mode": {
    "name": "ipython",
    "version": 2
   },
   "file_extension": ".py",
   "mimetype": "text/x-python",
   "name": "python",
   "nbconvert_exporter": "python",
   "pygments_lexer": "ipython2",
   "version": "2.7.6"
  }
 },
 "nbformat": 4,
 "nbformat_minor": 0
}
